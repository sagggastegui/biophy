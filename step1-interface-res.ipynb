{
 "cells": [
  {
   "cell_type": "code",
   "execution_count": 7,
   "id": "1a799719",
   "metadata": {},
   "outputs": [
    {
     "name": "stdout",
     "output_type": "stream",
     "text": [
      "Contacts between residues in different chains:\n",
      "GLN 42 A - TYR 449 E - 2.9429228\n",
      "LYS 353 A - GLY 502 E - 2.7658923\n",
      "TYR 41 A - THR 500 E - 2.624651\n",
      "GLU 35 A - GLN 493 E - 2.7958221\n",
      "TYR 83 A - ASN 487 E - 2.6658735\n",
      "HIE 34 A - TYR 453 E - 2.8842824\n",
      "ASP 30 A - LYS 417 E - 2.9862466\n",
      "GLN 24 A - ASN 487 E - 2.615844\n",
      "ASP 38 A - TYR 449 E - 2.6912184\n"
     ]
    }
   ],
   "source": [
    "from Bio.PDB.NeighborSearch import NeighborSearch\n",
    "from Bio.PDB.PDBParser import PDBParser\n",
    "import numpy as np\n",
    "\n",
    "MAXDIST =  3 # Define distance for a contact\n",
    "\n",
    "parser = PDBParser(QUIET=True)\n",
    "\n",
    "# Load structure from PDB file\n",
    "st = parser.get_structure('6M0J', '6m0j_fixed.pdb')\n",
    "\n",
    "# Select CA atoms\n",
    "select = [atom for model in st for chain in model for residue in chain for atom in residue if atom.id == 'CA']\n",
    "\n",
    "select_ats = []\n",
    "for at in st.get_atoms():\n",
    "   # Skip Hydrogens to reduce time\n",
    "    if at.element != 'H':\n",
    "        select_ats.append(at)\n",
    "\n",
    "# Preparing search\n",
    "nbsearch = NeighborSearch(select_ats)\n",
    "\n",
    "print(\"Contacts between residues in different chains:\")\n",
    "\n",
    "# Searching for contacts under MAXDIST\n",
    "for at1, at2 in nbsearch.search_all(MAXDIST):\n",
    "    res1 = at1.get_parent()\n",
    "    res2 = at2.get_parent()\n",
    "    chain1 = res1.get_parent().id\n",
    "    chain2 = res2.get_parent().id\n",
    "    resname1 = res1.get_resname()\n",
    "    resname2 = res2.get_resname()\n",
    "\n",
    "    if chain1 != chain2:  # Ensure residues are from different chains and avoid duplicates\n",
    "        distance = np.linalg.norm(at1.coord - at2.coord)\n",
    "        print(resname1, res1.id[1], chain1,'-', resname2, res2.id[1], chain2, '-', distance)\n",
    "\n"
   ]
  },
  {
   "cell_type": "code",
   "execution_count": null,
   "id": "fa403c82",
   "metadata": {},
   "outputs": [],
   "source": []
  }
 ],
 "metadata": {
  "kernelspec": {
   "display_name": "Python 3 (ipykernel)",
   "language": "python",
   "name": "python3"
  },
  "language_info": {
   "codemirror_mode": {
    "name": "ipython",
    "version": 3
   },
   "file_extension": ".py",
   "mimetype": "text/x-python",
   "name": "python",
   "nbconvert_exporter": "python",
   "pygments_lexer": "ipython3",
   "version": "3.9.12"
  }
 },
 "nbformat": 4,
 "nbformat_minor": 5
}
