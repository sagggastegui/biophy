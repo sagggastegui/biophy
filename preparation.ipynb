{
 "cells": [
  {
   "cell_type": "code",
   "execution_count": 92,
   "id": "93183601",
   "metadata": {},
   "outputs": [
    {
     "name": "stdout",
     "output_type": "stream",
     "text": [
      "The autoreload extension is already loaded. To reload it, use:\n",
      "  %reload_ext autoreload\n"
     ]
    }
   ],
   "source": [
    "%load_ext autoreload\n",
    "%autoreload 2"
   ]
  },
  {
   "cell_type": "code",
   "execution_count": 93,
   "id": "5e1ccb2c",
   "metadata": {},
   "outputs": [],
   "source": [
    "import biobb_structure_checking\n",
    "import biobb_structure_checking.constants as cts\n",
    "from biobb_structure_checking.structure_checking import StructureChecking\n",
    "base_dir_path=biobb_structure_checking.__path__[0]\n",
    "args = cts.set_defaults(base_dir_path,{'notebook':True})"
   ]
  },
  {
   "cell_type": "code",
   "execution_count": 94,
   "id": "83810506",
   "metadata": {},
   "outputs": [
    {
     "name": "stdout",
     "output_type": "stream",
     "text": [
      "\n",
      "BioBB's check_structure.py performs MDWeb structure checking set as a command line\n",
      "utility.\n",
      "\n",
      "commands:     Help on available commands\n",
      "command_list: Run all tests from conf file or command line list\n",
      "checkall:     Perform all checks without fixes\n",
      "load:         Stores structure on local cache and provides basic statistics\n",
      "\n",
      "1. System Configuration\n",
      "=======================\n",
      "sequences [--output_fasta FASTA]\n",
      "    Print canonical and structure sequences in FASTA format\n",
      "    --output_fasta Write sequences found in an externla FASTA file\n",
      "models [--select model_num] [--superimpose] [--save_split]\n",
      "    Detect/Select Models\n",
      "    --superimpose Superimposes currently selected models\n",
      "    --save_split Split models as separated output files.\n",
      "    --build_complex Build an actual complex from Biounits stored as collection of models\n",
      "chains [--select chain_ids | molecule_type] [--rename (auto|new label)]\n",
      "    [--renumber (auto | [A:]ini0[-fin0]=[B:]ini1)] [--rem_inscodes]\n",
      "    Detect/Select Chains\n",
      "    --select chains ids or chain types (PROTEIN|NA|DNA|RNA) to keep\n",
      "    --rename allow to fix unlabelled chains\n",
      "    --renumber allow to reorganize residues and chains by moving or renunbering fragments. Auto generate consecutive residue numbers.\n",
      "    --rem_inscodes removes insertion codes when renumbering chains\n",
      "inscodes\n",
      "    Detects residues with insertion codes.\n",
      "    --renumber fix insertion codes by renumbering chain residues\n",
      "altloc [--select occupancy| alt_id | list of res_id:alt_id]\n",
      "    Detect/Select Alternative Locations\n",
      "metals [--remove All | None | Met_ids_list | Residue_list]\n",
      "    Detect/Remove Metals\n",
      "ligands [--remove All | None | Res_type_list | Residue_list]\n",
      "    Detect/Remove Ligands\n",
      "getss      Detect SS Bonds\n",
      "    --mark Replace relevant CYS by CYX to mark SS Bond (HG atom removed if present)\n",
      "water [--remove Yes|No]\n",
      "    Remove Water molecules\n",
      "rem_hydrogen [--remove Yes|No]\n",
      "    Remove Hydrogen atoms from structure\n",
      "mutateside [--mut mutation_list|file:mutations_file] [--no_check_clashes]\n",
      "    Mutate side chain with minimal atom replacement. Allows multiple mutations.\n",
      "    mutation_list as file: accepts list of mutations in a external file\n",
      "    Check generated clashes except --no_check_clashes set\n",
      "    --rebuild Optimize side chains using Modeller.\n",
      "add_hydrogen [--add_mode auto | pH | list | interactive | interactive_his] [--no_fix_side] [--keep_h] [--add_charges FF]\n",
      "    Add Hydrogen Atoms. Auto: std changes at pH 7.0. His->Hie. pH: set pH value\n",
      "    list: Explicit list as [*:]HisXXHid, Interactive[_his]: Prompts for all selectable residues\n",
      "    Fixes missing side chain atoms unless --no_fix_side is set\n",
      "    Existing hydrogen atoms are removed before adding new ones unless --keep_h set.\n",
      "    --add_charges FF adds partial charges (from RES_LIBRARY) and atom types from FF forcefield. Output format taken from file extension or --output_format\n",
      "    Residue names are modified according to ionization state (e.g. HIS-> HIE, HID, HIP). Use --keep_canonical_resnames to avoid this behaviour\n",
      "\n",
      "2. Fix Structure Errors\n",
      "\n",
      "amide  [--fix All|None|Residue List] [--no_recheck]\n",
      "    Detect/Fix Amide atoms Assignment\n",
      "    Amide contacts are recheck unless --no_recheck\n",
      "chiral [--fix All|None|Residue List] [--no_check_clashes]\n",
      "    Detect/Fix Improper quirality\n",
      "    Checks generated clashes unless --no_check_clashes set\n",
      "fixside [--fix All |None|Residue List] [--no_check_clashes]\n",
      "    Complete side chains (heavy atoms, protein only)\n",
      "    Checks generated clashes unless --no_check_clashes set\n",
      "    --rebuild  Rebuild complete side chain using Modeller\n",
      "backbone [--fix_atoms All|None|Residue List]\n",
      "         [--fix_chain All|None|Break list]\n",
      "         [--add_caps All|None|Break list]\n",
      "         [--extra_gap]\n",
      "         [--no_recheck]\n",
      "         [--no_check_clashes]\n",
      "    Analyze main chain missing atoms and fragments (protein only).\n",
      "    --fix_atoms Missing O, OXT atoms can be fixed\n",
      "    --fix_chain Missing fragments filled using comparative modelling (Modeller License needed)\n",
      "    --add_caps Adds ACE and NME residues as necessary, preserving existing atoms\n",
      "    --extra_gap Recovers additional residues from model either side of the break, helps to fix loop connections (experimental)\n",
      "    Rechecks beckbone on each op unless --no_recheck is set.\n",
      "    Generated clashes are checked unless --no_check_clashes\n",
      "\n",
      "3. Structure Warnings (no fix)\n",
      "\n",
      "cistransbck Analyzes cis-trans dihedrals on backbone atoms\n",
      "clashes    Steric clashes (Severe, Apolar, Polar Donors, Polar Acceptors,\n",
      "           Ionic Positive, Ionic Negative)\n",
      "\n"
     ]
    }
   ],
   "source": [
    "with open(args['commands_help_path']) as help_file:\n",
    "    print(help_file.read())"
   ]
  },
  {
   "cell_type": "code",
   "execution_count": 95,
   "id": "787c9456",
   "metadata": {},
   "outputs": [],
   "source": [
    "base_path = '/home/carmen/biofi/'\n",
    "args['input_structure_path'] = base_path + '6m0j.cif'\n",
    "args['output_structure_path'] = base_path + '6m0j_fixed.pdb'\n",
    "args['output_structure_path_charges'] = base_path + '6m0j_fixed.pdbqt'\n",
    "args['debug'] = False\n",
    "args['verbose'] = False\n",
    "#Added missing defaults\n",
    "args['time_limit'] = 3600\n",
    "args['nocache'] = False\n",
    "args['copy_input'] = None\n",
    "args['build_warnings'] = False\n",
    "args['coords_only'] = False\n",
    "args['overwrite'] = False\n",
    "args['output_format'] = 'pdb'"
   ]
  },
  {
   "cell_type": "code",
   "execution_count": 96,
   "id": "af7c6164",
   "metadata": {
    "scrolled": true
   },
   "outputs": [
    {
     "name": "stdout",
     "output_type": "stream",
     "text": [
      "Canonical sequence for model 0:\n",
      "Structure /home/carmen/biofi/6m0j.cif loaded\n",
      " PDB id: 6M0J \n",
      " Title: Crystal structure of 2019-nCoV spike receptor-binding domain bound with ACE2\n",
      " Experimental method: X-RAY DIFFRACTION\n",
      " Keywords: VIRAL PROTEIN/HYDROLASE\n",
      " Resolution (A): 2.4500\n",
      "\n",
      " Num. models: 1\n",
      " Num. chains: 2 (A: Protein, E: Protein)\n",
      " Num. residues:  876\n",
      " Num. residues with ins. codes:  0\n",
      " Num. residues with H atoms: 0\n",
      " Num. HETATM residues:  85\n",
      " Num. ligands or modified residues:  5\n",
      " Num. water mol.:  80\n",
      " Num. atoms:  6543\n",
      "Metal/Ion residues found\n",
      " ZN A901\n",
      "Small mol ligands found\n",
      "NAG A902\n",
      "NAG A903\n",
      "NAG A904\n",
      "NAG E601\n"
     ]
    }
   ],
   "source": [
    "st_c = StructureChecking(base_dir_path, args)"
   ]
  },
  {
   "cell_type": "code",
   "execution_count": 97,
   "id": "e7787d98",
   "metadata": {
    "scrolled": false
   },
   "outputs": [
    {
     "name": "stdout",
     "output_type": "stream",
     "text": [
      "Running models.\n",
      "Detected 1 Model(s)\n",
      "Found Single model\n"
     ]
    }
   ],
   "source": [
    "st_c.models()"
   ]
  },
  {
   "cell_type": "code",
   "execution_count": 98,
   "id": "3312ff38",
   "metadata": {},
   "outputs": [
    {
     "name": "stdout",
     "output_type": "stream",
     "text": [
      "Running chains.\n",
      "Detected 2 Chain(s)\n",
      " A: Protein\n",
      " E: Protein\n"
     ]
    }
   ],
   "source": [
    "st_c.chains()\n"
   ]
  },
  {
   "cell_type": "code",
   "execution_count": 99,
   "id": "c5132d8c",
   "metadata": {
    "scrolled": true
   },
   "outputs": [
    {
     "name": "stdout",
     "output_type": "stream",
     "text": [
      "Running altloc. Options: occupancy\n",
      "Detected 2 residues with alternative location labels\n",
      "HIS A228\n",
      "  CA   A (0.50) B (0.50)\n",
      "  CB   A (0.50) B (0.50)\n",
      "  CG   A (0.50) B (0.50)\n",
      "  ND1  A (0.50) B (0.50)\n",
      "  CD2  A (0.50) B (0.50)\n",
      "  CE1  A (0.50) B (0.50)\n",
      "  NE2  A (0.50) B (0.50)\n",
      "GLN E493\n",
      "  CA   A (0.50) B (0.50)\n",
      "  CB   A (0.50) B (0.50)\n",
      "  CG   A (0.50) B (0.50)\n",
      "  CD   A (0.50) B (0.50)\n",
      "  OE1  A (0.50) B (0.50)\n",
      "  NE2  A (0.50) B (0.50)\n",
      "Selecting location occupancy\n"
     ]
    }
   ],
   "source": [
    "st_c.altloc('occupancy')"
   ]
  },
  {
   "cell_type": "code",
   "execution_count": 100,
   "id": "77431f29",
   "metadata": {},
   "outputs": [
    {
     "name": "stdout",
     "output_type": "stream",
     "text": [
      "Running altloc.\n",
      "Detected no residues with alternative location labels\n"
     ]
    }
   ],
   "source": [
    "st_c.altloc()"
   ]
  },
  {
   "cell_type": "code",
   "execution_count": 101,
   "id": "57650055",
   "metadata": {},
   "outputs": [
    {
     "name": "stdout",
     "output_type": "stream",
     "text": [
      "Running metals. Options: ALL\n",
      "Found 1 Metal ions\n",
      "  ZN A901.ZN \n",
      "Canonical sequence for model 0:\n",
      "Metal Atoms removed ALL (1)\n"
     ]
    }
   ],
   "source": [
    "st_c.metals('ALL')"
   ]
  },
  {
   "cell_type": "code",
   "execution_count": 102,
   "id": "d2b672a3",
   "metadata": {},
   "outputs": [
    {
     "name": "stdout",
     "output_type": "stream",
     "text": [
      "Running ligands. Options: All\n",
      "Detected 4 Ligands\n",
      " NAG A902\n",
      " NAG A903\n",
      " NAG A904\n",
      " NAG E601\n",
      "Canonical sequence for model 0:\n",
      "Ligands removed All (4)\n"
     ]
    }
   ],
   "source": [
    "st_c.ligands('All')"
   ]
  },
  {
   "cell_type": "code",
   "execution_count": 103,
   "id": "826b3ea0",
   "metadata": {},
   "outputs": [
    {
     "name": "stdout",
     "output_type": "stream",
     "text": [
      "Running rem_hydrogen.\n",
      "No residues with Hydrogen atoms found\n"
     ]
    }
   ],
   "source": [
    "st_c.rem_hydrogen()"
   ]
  },
  {
   "cell_type": "code",
   "execution_count": 104,
   "id": "d3f3782e",
   "metadata": {},
   "outputs": [
    {
     "name": "stdout",
     "output_type": "stream",
     "text": [
      "Running water.\n",
      "Detected 80 Water molecules\n"
     ]
    }
   ],
   "source": [
    "st_c.water()"
   ]
  },
  {
   "cell_type": "code",
   "execution_count": 105,
   "id": "e06652b4",
   "metadata": {},
   "outputs": [
    {
     "name": "stdout",
     "output_type": "stream",
     "text": [
      "Running water. Options: yes\n",
      "Detected 80 Water molecules\n",
      "Canonical sequence for model 0:\n",
      "Removed 80 Water molecules\n"
     ]
    }
   ],
   "source": [
    "st_c.water(\"yes\")"
   ]
  },
  {
   "cell_type": "code",
   "execution_count": 106,
   "id": "c8e2d273",
   "metadata": {},
   "outputs": [
    {
     "name": "stdout",
     "output_type": "stream",
     "text": [
      "Running amide. Options: all\n",
      "Found 6 unusual contact(s) involving amide atoms\n",
      " VAL A59.O    ASN A63.OD1     2.784 A\n",
      " ALA A80.O    GLN A101.OE1    2.931 A\n",
      " GLN A81.OE1  ASN A103.OD1    2.859 A\n",
      " ASN A134.ND2 ASN A137.N      2.987 A\n",
      " GLU A150.O   ASN A154.OD1    2.871 A\n",
      " ARG E357.NH1 ASN E394.ND2    2.964 A\n",
      "Amide residues fixed all (7)\n",
      "Rechecking\n",
      "Found 4 unusual contact(s) involving amide atoms\n",
      " GLN A81.NE2  ASN A103.ND2    2.859 A\n",
      " ASN A103.OD1 ASN A194.OD1    2.485 A\n",
      " ARG E357.NH1 ASN E394.ND2    3.058 A\n",
      " ASN E394.OD1 GLU E516.OE2    2.870 A\n"
     ]
    }
   ],
   "source": [
    "st_c.amide('all')"
   ]
  },
  {
   "cell_type": "code",
   "execution_count": 107,
   "id": "854c994f",
   "metadata": {},
   "outputs": [
    {
     "name": "stdout",
     "output_type": "stream",
     "text": [
      "Running amide. Options: A42,A103\n",
      "Found 4 unusual contact(s) involving amide atoms\n",
      " GLN A81.NE2  ASN A103.ND2    2.859 A\n",
      " ASN A103.OD1 ASN A194.OD1    2.485 A\n",
      " ARG E357.NH1 ASN E394.ND2    3.058 A\n",
      " ASN E394.OD1 GLU E516.OE2    2.870 A\n",
      "Amide residues fixed A42,A103 (1)\n",
      "Rechecking\n",
      "Found 2 unusual contact(s) involving amide atoms\n",
      " ARG E357.NH1 ASN E394.ND2    3.058 A\n",
      " ASN E394.OD1 GLU E516.OE2    2.870 A\n"
     ]
    }
   ],
   "source": [
    "st_c.amide('A42,A103')"
   ]
  },
  {
   "cell_type": "code",
   "execution_count": 108,
   "id": "b1e2c6d1",
   "metadata": {},
   "outputs": [
    {
     "name": "stdout",
     "output_type": "stream",
     "text": [
      "Running amide. Options: E394\n",
      "Found 2 unusual contact(s) involving amide atoms\n",
      " ARG E357.NH1 ASN E394.ND2    3.058 A\n",
      " ASN E394.OD1 GLU E516.OE2    2.870 A\n",
      "Amide residues fixed E394 (1)\n",
      "Rechecking\n",
      "Found 1 unusual contact(s) involving amide atoms\n",
      " ARG E357.NH1 ASN E394.ND2    2.964 A\n"
     ]
    }
   ],
   "source": [
    "st_c.amide('E394')"
   ]
  },
  {
   "cell_type": "code",
   "execution_count": 109,
   "id": "8fac697b",
   "metadata": {},
   "outputs": [
    {
     "name": "stdout",
     "output_type": "stream",
     "text": [
      "Running chiral.\n",
      "Found no residues with incorrect side-chain chirality\n"
     ]
    }
   ],
   "source": [
    "st_c.chiral()"
   ]
  },
  {
   "cell_type": "code",
   "execution_count": 110,
   "id": "6f2a5361",
   "metadata": {},
   "outputs": [
    {
     "name": "stdout",
     "output_type": "stream",
     "text": [
      "Running backbone.\n",
      "Found 2 Residues with missing backbone atoms\n",
      " ASP A615   OXT\n",
      " GLY E526   OXT\n",
      "No backbone breaks\n",
      "No unexpected backbone links\n"
     ]
    }
   ],
   "source": [
    "st_c.backbone()"
   ]
  },
  {
   "cell_type": "code",
   "execution_count": 111,
   "id": "ec39833b",
   "metadata": {},
   "outputs": [
    {
     "name": "stdout",
     "output_type": "stream",
     "text": [
      "Running backbone. Options: --fix_atoms All --fix_chain none --add_caps none\n",
      "Found 2 Residues with missing backbone atoms\n",
      " ASP A615   OXT\n",
      " GLY E526   OXT\n",
      "No backbone breaks\n",
      "No unexpected backbone links\n",
      "Capping terminal ends\n",
      "True terminal residues: A19,A615,E333,E526\n",
      "No caps added\n",
      "Fixing missing backbone atoms\n",
      "Adding missing backbone atoms\n",
      "ASP A615\n",
      "  Adding new atom OXT\n",
      "GLY E526\n",
      "  Adding new atom OXT\n",
      "Fixed 2 backbone atom(s)\n",
      "Checking for steric clashes\n",
      "No severe clashes detected\n",
      "No apolar clashes detected\n",
      "No polar_acceptor clashes detected\n",
      "No polar_donor clashes detected\n",
      "No positive clashes detected\n",
      "No negative clashes detected\n"
     ]
    }
   ],
   "source": [
    "st_c.backbone('--fix_atoms All --fix_chain none --add_caps none')"
   ]
  },
  {
   "cell_type": "code",
   "execution_count": 112,
   "id": "4cce5e92",
   "metadata": {},
   "outputs": [
    {
     "name": "stdout",
     "output_type": "stream",
     "text": [
      "Running fixside.\n",
      "Found no residues with missing or unknown side chain atoms\n"
     ]
    }
   ],
   "source": [
    "st_c.fixside()"
   ]
  },
  {
   "cell_type": "code",
   "execution_count": 113,
   "id": "3dc89c0b",
   "metadata": {},
   "outputs": [
    {
     "name": "stdout",
     "output_type": "stream",
     "text": [
      "Running getss. Options: all\n",
      "Detected 7 Possible SS Bonds\n",
      " CYS A133.SG  CYS A141.SG     4.215\n",
      " CYS A344.SG  CYS A361.SG     4.188\n",
      " CYS A530.SG  CYS A542.SG     4.089\n",
      " CYS E336.SG  CYS E361.SG     4.142\n",
      " CYS E379.SG  CYS E432.SG     4.212\n",
      " CYS E391.SG  CYS E525.SG     4.166\n",
      " CYS E480.SG  CYS E488.SG     4.253\n",
      "Canonical sequence for model 0:\n"
     ]
    }
   ],
   "source": [
    "st_c.getss('all')"
   ]
  },
  {
   "cell_type": "code",
   "execution_count": 114,
   "id": "bf32eab8",
   "metadata": {},
   "outputs": [
    {
     "name": "stdout",
     "output_type": "stream",
     "text": [
      "Running add_hydrogen.\n",
      "Found 226 Residues requiring selection on adding H atoms\n"
     ]
    }
   ],
   "source": [
    "st_c.add_hydrogen()"
   ]
  },
  {
   "cell_type": "code",
   "execution_count": 115,
   "id": "f48f8114",
   "metadata": {},
   "outputs": [
    {
     "name": "stdout",
     "output_type": "stream",
     "text": [
      "Running add_hydrogen. Options: auto\n",
      "Found 226 Residues requiring selection on adding H atoms\n",
      "WARNING: fixing side chains, override with --no_fix_side\n",
      "Running fixside. Options: --fix all\n",
      "Found no residues with missing or unknown side chain atoms\n",
      "Selection: auto\n",
      "Replacing HIS A34 by HIE\n",
      "Replacing HIS A195 by HIE\n",
      "Replacing HIS A228 by HIE\n",
      "Replacing HIS A239 by HIE\n",
      "Replacing HIS A241 by HIE\n",
      "Replacing HIS A265 by HIE\n",
      "Replacing HIS A345 by HIE\n",
      "Replacing HIS A373 by HIE\n",
      "Replacing HIS A374 by HIE\n",
      "Replacing HIS A378 by HIE\n",
      "Replacing HIS A401 by HIE\n",
      "Replacing HIS A417 by HIE\n",
      "Replacing HIS A493 by HIE\n",
      "Replacing HIS A505 by HIE\n",
      "Replacing HIS A535 by HIE\n",
      "Replacing HIS A540 by HIE\n",
      "Replacing HIS E519 by HIE\n"
     ]
    }
   ],
   "source": [
    "st_c.add_hydrogen('auto')"
   ]
  },
  {
   "cell_type": "code",
   "execution_count": 116,
   "id": "1f10835d",
   "metadata": {},
   "outputs": [
    {
     "name": "stdout",
     "output_type": "stream",
     "text": [
      "Running clashes.\n",
      "No severe clashes detected\n",
      "3 Steric apolar clashes detected\n",
      " HIE A34.CD2  TYR E453.OH     2.884 A\n",
      " THR A229.CG2 TYR A516.OH     2.863 A\n",
      " HIE A417.CE1 SER A545.OG     2.889 A\n",
      "4 Steric polar_acceptor clashes detected\n",
      " MET A152.O   GLY A268.O      3.062 A\n",
      " VAL A212.O   ASP A216.OD1    2.940 A\n",
      " LEU A333.O   MET A360.O      2.943 A\n",
      " GLY E485.O   CYX E488.O      3.023 A\n",
      "1 Steric polar_donor clashes detected\n",
      " ARG E357.NH1 ASN E394.ND2    2.964 A\n",
      "No positive clashes detected\n",
      "No negative clashes detected\n"
     ]
    }
   ],
   "source": [
    "st_c.clashes()"
   ]
  },
  {
   "cell_type": "code",
   "execution_count": 117,
   "id": "382f66eb",
   "metadata": {},
   "outputs": [
    {
     "name": "stdout",
     "output_type": "stream",
     "text": [
      "Running models.\n",
      "Detected 1 Model(s)\n",
      "Found Single model\n",
      "Running chains.\n",
      "Detected 2 Chain(s)\n",
      " A: Protein\n",
      " E: Protein\n",
      "Running inscodes.\n",
      "Found no residues with insertion codes\n",
      "Running altloc.\n",
      "Detected no residues with alternative location labels\n",
      "Running rem_hydrogen.\n",
      "Detected 791 Residues containing H atoms\n",
      "Running add_hydrogen.\n",
      "Found 209 Residues requiring selection on adding H atoms\n",
      "Running water.\n",
      "No water molecules found\n",
      "Running metals.\n",
      "No metal ions found\n",
      "Running ligands.\n",
      "No ligands found\n",
      "Running getss.\n",
      "Detected 7 Possible SS Bonds\n",
      " CYX A133.SG  CYX A141.SG     4.215\n",
      " CYX A344.SG  CYX A361.SG     4.188\n",
      " CYX A530.SG  CYX A542.SG     4.089\n",
      " CYX E336.SG  CYX E361.SG     4.142\n",
      " CYX E379.SG  CYX E432.SG     4.212\n",
      " CYX E391.SG  CYX E525.SG     4.166\n",
      " CYX E480.SG  CYX E488.SG     4.253\n",
      "Running amide.\n",
      "Found 1 unusual contact(s) involving amide atoms\n",
      " ARG E357.NH1 ASN E394.ND2    2.964 A\n",
      "Running chiral.\n",
      "Found no residues with incorrect side-chain chirality\n",
      "Running chiral_bck.\n",
      "Found no residues with incorrect backbone chirality\n",
      "Running fixside.\n",
      "Warning: unknown residue NSER\n",
      "Warning: unknown residue NTHR\n",
      "Found no residues with missing or unknown side chain atoms\n",
      "Running backbone.\n",
      "Found No residues with missing backbone atoms\n",
      "No backbone breaks\n",
      "No unexpected backbone links\n",
      "Running cistransbck.\n",
      "Found 1 cis peptide bonds\n",
      "GLU A145   PRO A146   Dihedral:    6.119\n",
      "No trans peptide bonds with unusual omega dihedrals found\n",
      "Running clashes.\n",
      "No severe clashes detected\n",
      "3 Steric apolar clashes detected\n",
      " HIE A34.CD2  TYR E453.OH     2.884 A\n",
      " THR A229.CG2 TYR A516.OH     2.863 A\n",
      " HIE A417.CE1 SER A545.OG     2.889 A\n",
      "4 Steric polar_acceptor clashes detected\n",
      " MET A152.O   GLY A268.O      3.062 A\n",
      " VAL A212.O   ASP A216.OD1    2.940 A\n",
      " LEU A333.O   MET A360.O      2.943 A\n",
      " GLY E485.O   CYX E488.O      3.023 A\n",
      "1 Steric polar_donor clashes detected\n",
      " ARG E357.NH1 ASN E394.ND2    2.964 A\n",
      "No positive clashes detected\n",
      "No negative clashes detected\n",
      "Running sequences.\n",
      "Canonical sequence\n",
      ">can_sq_A canonical sequence chain A\n",
      "STIEEQAKTFLDKFNHEAEDLFYQSSLASWNYNTNITEENVQNMNNAGDKWSAFLKEQST\n",
      "LAQMYPLQEIQNLTVKLQLQALQQNGSSVLSEDKSKRLNTILNTMSTIYSTGKVCNPDNP\n",
      "QECLLLEPGLNEIMANSLDYNERLWAWESWRSEVGKQLRPLYEEYVVLKNEMARANHYED\n",
      "YGDYWRGDYEVNGVDGYDYSRGQLIEDVEHTFEEIKPLYEHLHAYVRAKLMNAYPSYISP\n",
      "IGCLPAHLLGDMWGRFWTNLYSLTVPFGQKPNIDVTDAMVDQAWDAQRIFKEAEKFFVSV\n",
      "GLPNMTQGFWENSMLTDPGNVQKAVCHPTAWDLGKGDFRILMCTKVTMDDFLTAHHEMGH\n",
      "IQYDMAYAAQPFLLRNGANEGFHEAVGEIMSLSAATPKHLKSIGLLSPDFQEDNETEINF\n",
      "LLKQALTIVGTLPFTYMLEKWRWMVFKGEIPKDQWMKKWWEMKREIVGVVEPVPHDETYC\n",
      "DPASLFHVSNDYSFIRYYTRTLYQFQFQEALCQAAKHEGPLHKCDISNSTEAGQKLFNML\n",
      "RLGKSEPWTLALENVVGAKNMNVRPLLNYFEPLFTWLKDQNKNSFVGWSTDWSPYADHHH\n",
      "HHH\n",
      ">can_sq_E canonical sequence chain E\n",
      "RVQPTESIVRFPNITNLCPFGEVFNATRFASVYAWNRKRISNCVADYSVLYNSASFSTFK\n",
      "CYGVSPTKLNDLCFTNVYADSFVIRGDEVRQIAPGQTGKIADYNYKLPDDFTGCVIAWNS\n",
      "NNLDSKVGGNYNYLYRLFRKSNLKPFERDISTEIYQAGSTPCNGVEGFNCYFPLQSYGFQ\n",
      "PTNGVGYQPYRVVVLSFELLHAPATVCGPKKSTNLVKNKCVNFHHHHHH\n",
      "\n",
      "Structure sequence\n",
      ">pdb_sq_A Frags: 19-615\n",
      "STIEEQAKTFLDKFNHEAEDLFYQSSLASWNYNTNITEENVQNMNNAGDKWSAFLKEQST\n",
      "LAQMYPLQEIQNLTVKLQLQALQQNGSSVLSEDKSKRLNTILNTMSTIYSTGKVCNPDNP\n",
      "QECLLLEPGLNEIMANSLDYNERLWAWESWRSEVGKQLRPLYEEYVVLKNEMARANHYED\n",
      "YGDYWRGDYEVNGVDGYDYSRGQLIEDVEHTFEEIKPLYEHLHAYVRAKLMNAYPSYISP\n",
      "IGCLPAHLLGDMWGRFWTNLYSLTVPFGQKPNIDVTDAMVDQAWDAQRIFKEAEKFFVSV\n",
      "GLPNMTQGFWENSMLTDPGNVQKAVCHPTAWDLGKGDFRILMCTKVTMDDFLTAHHEMGH\n",
      "IQYDMAYAAQPFLLRNGANEGFHEAVGEIMSLSAATPKHLKSIGLLSPDFQEDNETEINF\n",
      "LLKQALTIVGTLPFTYMLEKWRWMVFKGEIPKDQWMKKWWEMKREIVGVVEPVPHDETYC\n",
      "DPASLFHVSNDYSFIRYYTRTLYQFQFQEALCQAAKHEGPLHKCDISNSTEAGQKLFNML\n",
      "RLGKSEPWTLALENVVGAKNMNVRPLLNYFEPLFTWLKDQNKNSFVGWSTDWSPYAD---\n",
      "---\n",
      ">pdb_sq_E Frags: 333-526\n",
      "--------------TNLCPFGEVFNATRFASVYAWNRKRISNCVADYSVLYNSASFSTFK\n",
      "CYGVSPTKLNDLCFTNVYADSFVIRGDEVRQIAPGQTGKIADYNYKLPDDFTGCVIAWNS\n",
      "NNLDSKVGGNYNYLYRLFRKSNLKPFERDISTEIYQAGSTPCNGVEGFNCYFPLQSYGFQ\n",
      "PTNGVGYQPYRVVVLSFELLHAPATVCG---------------------\n",
      "\n"
     ]
    }
   ],
   "source": [
    "st_c.checkall()\n"
   ]
  },
  {
   "cell_type": "code",
   "execution_count": 119,
   "id": "73f4f64e",
   "metadata": {},
   "outputs": [
    {
     "data": {
      "text/plain": [
       "'/home/carmen/biofi/6m0j_fixed.pdb'"
      ]
     },
     "execution_count": 119,
     "metadata": {},
     "output_type": "execute_result"
    }
   ],
   "source": [
    "st_c._save_structure(args['output_structure_path'])"
   ]
  },
  {
   "cell_type": "code",
   "execution_count": 120,
   "id": "317e0ed2",
   "metadata": {},
   "outputs": [
    {
     "name": "stdout",
     "output_type": "stream",
     "text": [
      "Running rem_hydrogen. Options: yes\n",
      "Detected 791 Residues containing H atoms\n",
      "Hydrogen atoms removed from 791 residues\n"
     ]
    }
   ],
   "source": [
    "st_c.rem_hydrogen('yes')"
   ]
  },
  {
   "cell_type": "code",
   "execution_count": 122,
   "id": "2f4cbd4e",
   "metadata": {},
   "outputs": [
    {
     "name": "stdout",
     "output_type": "stream",
     "text": [
      "================================================================================\n",
      "=                   BioBB structure checking utility v3.13.4                   =\n",
      "=            P. Andrio, A. Hospital, G. Bayarri, J.L. Gelpi 2018-23            =\n",
      "================================================================================\n",
      "\n",
      "Warning: sequence features may not be available, use --sequence for  external fasta input\n",
      "Structure /home/carmen/biofi/6m0j_fixed.pdb loaded\n",
      " PDB id:  \n",
      " Title: \n",
      " Experimental method: unknown\n",
      " Resolution (A): N.A.\n",
      "\n",
      " Num. models: 1\n",
      " Num. chains: 2 (A: Protein, E: Protein)\n",
      " Num. residues:  791\n",
      " Num. residues with ins. codes:  0\n",
      " Num. residues with H atoms: 791 (total 6102 H atoms)\n",
      " Num. HETATM residues:  0\n",
      " Num. ligands or modified residues:  0\n",
      " Num. water mol.:  0\n",
      " Num. atoms:  12510\n",
      "Running add_hydrogen. Options: --add_charges --add_mode auto\n",
      "Found 209 Residues requiring selection on adding H atoms\n"
     ]
    },
    {
     "name": "stderr",
     "output_type": "stream",
     "text": [
      "usage: add_hydrogen [-h] [--add_mode ADD_MODE] [--pH PH] [--list LIST]\n",
      "                    [--no_fix_side] [--keep_h] [--add_charges ADD_CHARGES]\n",
      "add_hydrogen: error: argument --add_charges: expected one argument\n"
     ]
    },
    {
     "data": {
      "text/plain": [
       "512"
      ]
     },
     "execution_count": 122,
     "metadata": {},
     "output_type": "execute_result"
    }
   ],
   "source": [
    "import os\n",
    "os.system('check_structure -i ' + args['output_structure_path'] + ' -o ' + args['output_structure_path_charges'] + ' add_hydrogen --add_charges --add_mode auto')"
   ]
  },
  {
   "cell_type": "code",
   "execution_count": null,
   "id": "966260d9",
   "metadata": {},
   "outputs": [],
   "source": []
  }
 ],
 "metadata": {
  "kernelspec": {
   "display_name": "Python 3 (ipykernel)",
   "language": "python",
   "name": "python3"
  },
  "language_info": {
   "codemirror_mode": {
    "name": "ipython",
    "version": 3
   },
   "file_extension": ".py",
   "mimetype": "text/x-python",
   "name": "python",
   "nbconvert_exporter": "python",
   "pygments_lexer": "ipython3",
   "version": "3.9.12"
  }
 },
 "nbformat": 4,
 "nbformat_minor": 5
}
